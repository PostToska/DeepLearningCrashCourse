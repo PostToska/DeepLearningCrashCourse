{
 "cells": [
  {
   "cell_type": "code",
   "execution_count": 1,
   "id": "68e9c133",
   "metadata": {},
   "outputs": [
    {
     "data": {
      "text/plain": [
       "'\\nIn this task we will try to implement the simplest machine learning model,\\nwhich will use a linear function to divide the dataset into 2 parts. (binary classification model)\\n'"
      ]
     },
     "execution_count": 1,
     "metadata": {},
     "output_type": "execute_result"
    }
   ],
   "source": [
    "\"\"\"\n",
    "In this task we will try to implement the simplest machine learning model,\n",
    "which will use a linear function to divide the dataset into 2 parts. (binary classification model)\n",
    "\"\"\""
   ]
  },
  {
   "cell_type": "code",
   "execution_count": 2,
   "id": "fcd1e42e",
   "metadata": {},
   "outputs": [
    {
     "data": {
      "text/plain": [
       "\"\\nLet's imagine that we have the task of understanding when the weather is good\\nand when the weather is bad for a walk,\\nwe have very few parameters by which we can judge - this is humidity and temperature outside.\\nOn the X axis we will mark the humidity, and on the Y we will mark the temperature:\\n\""
      ]
     },
     "execution_count": 2,
     "metadata": {},
     "output_type": "execute_result"
    }
   ],
   "source": [
    "\"\"\"\n",
    "Let's imagine that we have the task of understanding when the weather is good\n",
    "and when the weather is bad for a walk,\n",
    "we have very few parameters by which we can judge - this is pressure and temperature outside.\n",
    "On the X axis we will mark the pressure, and on the Y we will mark the temperature:\n",
    "\"\"\""
   ]
  },
  {
   "cell_type": "markdown",
   "id": "c69e59f1",
   "metadata": {},
   "source": []
  },
  {
   "cell_type": "code",
   "execution_count": null,
   "id": "1fb676f0",
   "metadata": {},
   "outputs": [],
   "source": []
  }
 ],
 "metadata": {
  "kernelspec": {
   "display_name": "Python 3 (ipykernel)",
   "language": "python",
   "name": "python3"
  },
  "language_info": {
   "codemirror_mode": {
    "name": "ipython",
    "version": 3
   },
   "file_extension": ".py",
   "mimetype": "text/x-python",
   "name": "python",
   "nbconvert_exporter": "python",
   "pygments_lexer": "ipython3",
   "version": "3.11.3"
  }
 },
 "nbformat": 4,
 "nbformat_minor": 5
}
